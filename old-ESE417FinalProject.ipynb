{
 "cells": [
  {
   "cell_type": "code",
   "execution_count": 70,
   "metadata": {},
   "outputs": [],
   "source": [
    "import numpy as np\n",
    "import pandas as pd\n",
    "import matplotlib.pyplot as plt\n",
    "import seaborn as sns\n",
    "\n",
    "from sklearn.model_selection import train_test_split\n",
    "from sklearn.preprocessing import StandardScaler\n",
    "from sklearn.svm import SVC\n",
    "from sklearn.neural_network import MLPClassifier\n",
    "from sklearn.ensemble import RandomForestClassifier\n",
    "from sklearn.metrics import accuracy_score, precision_score, recall_score, f1_score, confusion_matrix, classification_report, ConfusionMatrixDisplay\n",
    "\n",
    "# Set a random seed for reproducibility\n",
    "np.random.seed(42)"
   ]
  },
  {
   "cell_type": "markdown",
   "metadata": {},
   "source": [
    "Observing Data"
   ]
  },
  {
   "cell_type": "code",
   "execution_count": null,
   "metadata": {},
   "outputs": [],
   "source": [
    "file_path = 'winequality-red-4.csv'\n",
    "\n",
    "# Step 1: Read the header line\n",
    "with open(file_path, 'r', encoding='utf-8') as f:\n",
    "    header_line = f.readline().strip()\n",
    "\n",
    "print(\"Original Header Line:\")\n",
    "print(header_line)\n",
    "\n",
    "# Step 2: Split the header by semicolon\n",
    "raw_columns = header_line.split(';')\n",
    "\n",
    "# Step 3: Clean each column name by removing extra quotes\n",
    "clean_columns = [col.replace('\"\"', '\"').strip('\"') for col in raw_columns]\n",
    "\n",
    "print(\"\\nCleaned Column Names:\")\n",
    "print(clean_columns)\n",
    "\n",
    "# Step 4: Load the data using the cleaned column names\n",
    "data = pd.read_csv(\n",
    "    file_path,\n",
    "    sep=';',               \n",
    "    header=None,           \n",
    "    names=clean_columns,  \n",
    "    skiprows=1,           \n",
    "    engine='python',       \n",
    "    on_bad_lines='skip'    \n",
    ")"
   ]
  },
  {
   "cell_type": "code",
   "execution_count": null,
   "metadata": {},
   "outputs": [],
   "source": [
    "# Initial Data Inspection\n",
    "print(\"\\nData Info:\")\n",
    "print(data.info())\n",
    "print(\"\\nChecking for missing values:\")\n",
    "print(data.isnull().sum())\n"
   ]
  },
  {
   "cell_type": "code",
   "execution_count": null,
   "metadata": {},
   "outputs": [],
   "source": [
    "data.head()\n"
   ]
  },
  {
   "cell_type": "code",
   "execution_count": null,
   "metadata": {},
   "outputs": [],
   "source": [
    "data.describe()\n"
   ]
  },
  {
   "cell_type": "code",
   "execution_count": null,
   "metadata": {},
   "outputs": [],
   "source": [
    "data.columns"
   ]
  },
  {
   "cell_type": "code",
   "execution_count": null,
   "metadata": {},
   "outputs": [],
   "source": [
    "data.columns = [col.strip('\"') for col in data.columns]\n",
    "data.columns\n",
    "# Check if 'quality' column exists\n",
    "if 'quality' in data.columns:\n",
    "    print(\"\\n'quality' column is present.\")\n",
    "else:\n",
    "    print(\"\\n'quality' column is missing. Available columns:\")\n",
    "    print(data.columns)\n",
    "\n"
   ]
  },
  {
   "cell_type": "markdown",
   "metadata": {},
   "source": [
    "PreProcessing"
   ]
  },
  {
   "cell_type": "code",
   "execution_count": null,
   "metadata": {},
   "outputs": [],
   "source": [
    "plt.figure(figsize=(8, 5))\n",
    "sns.countplot(x='quality', data=data, palette='viridis')\n",
    "plt.title('Distribution of Wine Quality Scores')\n",
    "plt.xlabel('Quality Score')\n",
    "plt.ylabel('Count')\n",
    "plt.show()"
   ]
  },
  {
   "cell_type": "code",
   "execution_count": null,
   "metadata": {},
   "outputs": [],
   "source": [
    "# Histograms for each feature\n",
    "data.hist(bins=20, figsize=(15, 12), color='skyblue', edgecolor='black')\n",
    "plt.suptitle('Histograms of Wine Features', fontsize=16)\n",
    "plt.tight_layout()\n",
    "plt.show()"
   ]
  },
  {
   "cell_type": "code",
   "execution_count": null,
   "metadata": {},
   "outputs": [],
   "source": [
    "sns.pairplot(data, hue='quality', palette='viridis', diag_kind='kde')\n",
    "plt.suptitle('Pairwise Relationships Between Features', y=1.02)\n",
    "plt.show()"
   ]
  },
  {
   "cell_type": "code",
   "execution_count": null,
   "metadata": {},
   "outputs": [],
   "source": [
    "plt.figure(figsize=(12, 10))\n",
    "correlation = data.corr()\n",
    "sns.heatmap(correlation, annot=True, cmap='coolwarm', fmt=\".2f\")\n",
    "plt.title('Correlation Heatmap of Wine Features')\n",
    "plt.show()"
   ]
  },
  {
   "cell_type": "code",
   "execution_count": null,
   "metadata": {},
   "outputs": [],
   "source": [
    "# Plot boxplots for all numerical features\n",
    "plt.figure(figsize=(15, 10))\n",
    "sns.boxplot(data=data, palette='viridis')\n",
    "plt.title('Boxplots of Wine Features')\n",
    "plt.xticks(rotation=45)\n",
    "plt.show()\n"
   ]
  },
  {
   "cell_type": "markdown",
   "metadata": {},
   "source": [
    "Feature Engineering"
   ]
  },
  {
   "cell_type": "markdown",
   "metadata": {},
   "source": [
    "Converting Quality to a binary label to distinguish high quality wine from the rest. Quality of 7 and above is good while quality of under 7 is average or bad (0)."
   ]
  },
  {
   "cell_type": "code",
   "execution_count": null,
   "metadata": {},
   "outputs": [],
   "source": [
    "# Define 'good' wine as quality >= 7\n",
    "data['quality_label'] = (data['quality'] >= 7).astype(int)\n",
    "\n",
    "# Verify the distribution of the new label\n",
    "plt.figure(figsize=(6,4))\n",
    "sns.countplot(x='quality_label', data=data, palette='viridis')\n",
    "plt.title('Distribution of Binary Quality Labels')\n",
    "plt.xlabel('Quality Label (0 = Not Good, 1 = Good)')\n",
    "plt.ylabel('Count')\n",
    "plt.show()\n"
   ]
  },
  {
   "cell_type": "code",
   "execution_count": null,
   "metadata": {},
   "outputs": [],
   "source": [
    "X = data.drop(['quality', 'quality_label'], axis=1)\n",
    "y = data['quality_label']\n",
    "\n",
    "# Initialize the scaler\n",
    "scaler = StandardScaler()\n",
    "\n",
    "# Fit and transform the features\n",
    "X_scaled = scaler.fit_transform(X)\n",
    "\n",
    "# Convert scaled features back to DataFrame for easier handling\n",
    "X_scaled = pd.DataFrame(X_scaled, columns=X.columns)\n",
    "\n",
    "print(\"\\nFirst 5 Rows of Scaled Features:\")\n",
    "print(X_scaled.head())"
   ]
  },
  {
   "cell_type": "code",
   "execution_count": null,
   "metadata": {},
   "outputs": [],
   "source": [
    "# Check class distribution\n",
    "print(\"\\nClass Distribution:\")\n",
    "print(y.value_counts())\n",
    "\n",
    "# Plot class distribution\n",
    "plt.figure(figsize=(6,4))\n",
    "sns.countplot(x=y, palette='viridis')\n",
    "plt.title('Class Distribution of Quality Labels')\n",
    "plt.xlabel('Quality Label (0 = Not Good, 1 = Good)')\n",
    "plt.ylabel('Count')\n",
    "plt.show()\n"
   ]
  },
  {
   "cell_type": "code",
   "execution_count": null,
   "metadata": {},
   "outputs": [],
   "source": [
    "# Split the data into training and testing sets\n",
    "# Stratify to maintain class distribution\n",
    "X_train, X_test, y_train, y_test = train_test_split(\n",
    "    X_scaled, y, test_size=0.2, random_state=42, stratify=y\n",
    ")\n",
    "\n",
    "print(\"\\nTraining and Testing Set Sizes:\")\n",
    "print(f\"X_train: {X_train.shape}, X_test: {X_test.shape}\")\n",
    "print(f\"y_train: {y_train.shape}, y_test: {y_test.shape}\")\n"
   ]
  },
  {
   "cell_type": "code",
   "execution_count": null,
   "metadata": {},
   "outputs": [],
   "source": [
    "# --- Support Vector Machine (SVM) ---\n",
    "svm_model = SVC(C=1.0, kernel='rbf', random_state=42)\n",
    "svm_model.fit(X_train, y_train)\n",
    "\n",
    "# --- Artificial Neural Network (ANN) ---\n",
    "mlp_model = MLPClassifier(hidden_layer_sizes=(50,), activation='relu', solver='adam',\n",
    "                          max_iter=500, random_state=42)\n",
    "mlp_model.fit(X_train, y_train)\n",
    "\n",
    "# --- Random Forest ---\n",
    "rf_model = RandomForestClassifier(n_estimators=100, max_depth=None, random_state=42)\n",
    "rf_model.fit(X_train, y_train)\n"
   ]
  },
  {
   "cell_type": "code",
   "execution_count": null,
   "metadata": {},
   "outputs": [],
   "source": [
    "def evaluate_model(model, X_test, y_test):\n",
    "    \"\"\"Evaluate a model and return performance metrics.\"\"\"\n",
    "    y_pred = model.predict(X_test)\n",
    "    acc = accuracy_score(y_test, y_pred)\n",
    "    prec = precision_score(y_test, y_pred, zero_division=0)\n",
    "    rec = recall_score(y_test, y_pred, zero_division=0)\n",
    "    f1 = f1_score(y_test, y_pred, zero_division=0)\n",
    "    return acc, prec, rec, f1\n",
    "\n",
    "# Evaluate all models\n",
    "svm_metrics = evaluate_model(svm_model, X_test, y_test)\n",
    "mlp_metrics = evaluate_model(mlp_model, X_test, y_test)\n",
    "rf_metrics = evaluate_model(rf_model, X_test, y_test)\n",
    "\n",
    "# Create a comparison DataFrame\n",
    "comparison_df = pd.DataFrame({\n",
    "    'Model': ['SVM', 'ANN', 'Random Forest'],\n",
    "    'Accuracy': [svm_metrics[0], mlp_metrics[0], rf_metrics[0]],\n",
    "    'Precision': [svm_metrics[1], mlp_metrics[1], rf_metrics[1]],\n",
    "    'Recall': [svm_metrics[2], mlp_metrics[2], rf_metrics[2]],\n",
    "    'F1-Score': [svm_metrics[3], mlp_metrics[3], rf_metrics[3]]\n",
    "})\n",
    "\n",
    "print(\"\\nModel Performance Comparison:\")\n",
    "print(comparison_df)"
   ]
  },
  {
   "cell_type": "code",
   "execution_count": null,
   "metadata": {},
   "outputs": [],
   "source": [
    "# Visualize the performance comparison\n",
    "plt.figure(figsize=(10,6))\n",
    "sns.barplot(x='Model', y='Accuracy', data=comparison_df, palette='viridis', label='Accuracy')\n",
    "sns.barplot(x='Model', y='Precision', data=comparison_df, palette='viridis', label='Precision', alpha=0.7)\n",
    "sns.barplot(x='Model', y='Recall', data=comparison_df, palette='viridis', label='Recall', alpha=0.5)\n",
    "sns.barplot(x='Model', y='F1-Score', data=comparison_df, palette='viridis', label='F1-Score', alpha=0.3)\n",
    "plt.title('Model Performance Comparison')\n",
    "plt.ylabel('Score')\n",
    "plt.xlabel('Model')\n",
    "plt.ylim(0,1)\n",
    "plt.legend(loc='lower right')\n",
    "plt.tight_layout()\n",
    "plt.show()\n"
   ]
  },
  {
   "cell_type": "code",
   "execution_count": null,
   "metadata": {},
   "outputs": [],
   "source": [
    "# Function to plot confusion matrix\n",
    "def plot_confusion_matrix(model, X_test, y_test, model_name):\n",
    "    y_pred = model.predict(X_test)\n",
    "    cm = confusion_matrix(y_test, y_pred)\n",
    "    disp = ConfusionMatrixDisplay(confusion_matrix=cm, display_labels=['Not Good', 'Good'])\n",
    "    disp.plot(cmap='Blues')\n",
    "    plt.title(f'Confusion Matrix for {model_name}')\n",
    "    plt.show()\n",
    "\n",
    "# Plot for SVM\n",
    "plot_confusion_matrix(svm_model, X_test, y_test, 'Support Vector Machine')\n",
    "\n",
    "# Plot for ANN\n",
    "plot_confusion_matrix(mlp_model, X_test, y_test, 'Artificial Neural Network')\n",
    "\n",
    "# Plot for Random Forest\n",
    "plot_confusion_matrix(rf_model, X_test, y_test, 'Random Forest')"
   ]
  },
  {
   "cell_type": "code",
   "execution_count": null,
   "metadata": {},
   "outputs": [],
   "source": [
    "from sklearn.metrics import roc_curve, auc\n",
    "\n",
    "# Function to plot ROC curve\n",
    "def plot_roc_curve(model, X_test, y_test, model_name):\n",
    "    y_prob = model.predict_proba(X_test)[:,1] if hasattr(model, \"predict_proba\") else model.decision_function(X_test)\n",
    "    fpr, tpr, thresholds = roc_curve(y_test, y_prob)\n",
    "    roc_auc = auc(fpr, tpr)\n",
    "    \n",
    "    plt.figure()\n",
    "    plt.plot(fpr, tpr, color='darkorange',\n",
    "             lw=2, label=f'ROC curve (AUC = {roc_auc:.2f})')\n",
    "    plt.plot([0, 1], [0, 1], color='navy', lw=2, linestyle='--')\n",
    "    plt.xlim([-0.01, 1.0])\n",
    "    plt.ylim([0.0, 1.05])\n",
    "    plt.xlabel('False Positive Rate')\n",
    "    plt.ylabel('True Positive Rate')\n",
    "    plt.title(f'Receiver Operating Characteristic - {model_name}')\n",
    "    plt.legend(loc=\"lower right\")\n",
    "    plt.show()\n",
    "\n",
    "# Plot ROC for SVM\n",
    "plot_roc_curve(svm_model, X_test, y_test, 'Support Vector Machine')\n",
    "\n",
    "# Plot ROC for ANN\n",
    "plot_roc_curve(mlp_model, X_test, y_test, 'Artificial Neural Network')\n",
    "\n",
    "# Plot ROC for Random Forest\n",
    "plot_roc_curve(rf_model, X_test, y_test, 'Random Forest')\n"
   ]
  },
  {
   "cell_type": "code",
   "execution_count": null,
   "metadata": {},
   "outputs": [],
   "source": [
    "from sklearn.metrics import precision_recall_curve, average_precision_score\n",
    "\n",
    "# Function to plot Precision-Recall curve\n",
    "def plot_precision_recall(model, X_test, y_test, model_name):\n",
    "    y_prob = model.predict_proba(X_test)[:,1] if hasattr(model, \"predict_proba\") else model.decision_function(X_test)\n",
    "    precision, recall, thresholds = precision_recall_curve(y_test, y_prob)\n",
    "    avg_precision = average_precision_score(y_test, y_prob)\n",
    "    \n",
    "    plt.figure()\n",
    "    plt.plot(recall, precision, color='blue', lw=2, label=f'AP = {avg_precision:.2f}')\n",
    "    plt.xlabel('Recall')\n",
    "    plt.ylabel('Precision')\n",
    "    plt.title(f'Precision-Recall Curve - {model_name}')\n",
    "    plt.legend(loc=\"upper right\")\n",
    "    plt.show()\n",
    "\n",
    "# Plot Precision-Recall for SVM\n",
    "plot_precision_recall(svm_model, X_test, y_test, 'Support Vector Machine')\n",
    "\n",
    "# Plot Precision-Recall for ANN\n",
    "plot_precision_recall(mlp_model, X_test, y_test, 'Artificial Neural Network')\n",
    "\n",
    "# Plot Precision-Recall for Random Forest\n",
    "plot_precision_recall(rf_model, X_test, y_test, 'Random Forest')\n"
   ]
  },
  {
   "cell_type": "code",
   "execution_count": null,
   "metadata": {},
   "outputs": [],
   "source": [
    "# Extract feature importances from Random Forest\n",
    "importances = rf_model.feature_importances_\n",
    "indices = np.argsort(importances)[::-1]\n",
    "feature_names = X.columns\n",
    "\n",
    "# Plot Feature Importances\n",
    "plt.figure(figsize=(10,6))\n",
    "sns.barplot(x=importances[indices], y=feature_names[indices], palette='viridis')\n",
    "plt.title('Feature Importances from Random Forest')\n",
    "plt.xlabel('Importance')\n",
    "plt.ylabel('Feature')\n",
    "plt.show()\n"
   ]
  },
  {
   "cell_type": "code",
   "execution_count": null,
   "metadata": {},
   "outputs": [],
   "source": [
    "from sklearn.model_selection import learning_curve\n",
    "\n",
    "# Function to plot learning curves\n",
    "def plot_learning_curve(model, X, y, model_name):\n",
    "    train_sizes, train_scores, test_scores = learning_curve(\n",
    "        model, X, y, cv=5, scoring='accuracy',\n",
    "        n_jobs=-1, train_sizes=np.linspace(.1, 1.0, 5)\n",
    "    )\n",
    "    \n",
    "    train_scores_mean = np.mean(train_scores, axis=1)\n",
    "    test_scores_mean = np.mean(test_scores, axis=1)\n",
    "    \n",
    "    plt.figure()\n",
    "    plt.plot(train_sizes, train_scores_mean, 'o-', color='blue', label='Training score')\n",
    "    plt.plot(train_sizes, test_scores_mean, 'o-', color='green', label='Cross-validation score')\n",
    "    plt.title(f'Learning Curve - {model_name}')\n",
    "    plt.xlabel('Training Size')\n",
    "    plt.ylabel('Accuracy')\n",
    "    plt.legend(loc='best')\n",
    "    plt.grid()\n",
    "    plt.show()\n",
    "\n",
    "# Plot Learning Curve for SVM\n",
    "plot_learning_curve(svm_model, X_scaled, y, 'Support Vector Machine')\n",
    "\n",
    "# Plot Learning Curve for ANN\n",
    "plot_learning_curve(mlp_model, X_scaled, y, 'Artificial Neural Network')\n",
    "\n",
    "# Plot Learning Curve for Random Forest\n",
    "plot_learning_curve(rf_model, X_scaled, y, 'Random Forest')\n"
   ]
  },
  {
   "cell_type": "code",
   "execution_count": null,
   "metadata": {},
   "outputs": [],
   "source": [
    "# Melt the comparison dataframe for easier plotting\n",
    "comparison_melted = comparison_df.melt(id_vars='Model', var_name='Metric', value_name='Score')\n",
    "\n",
    "plt.figure(figsize=(10,6))\n",
    "sns.barplot(x='Model', y='Score', hue='Metric', data=comparison_melted, palette='viridis')\n",
    "plt.title('Model Performance Metrics Comparison')\n",
    "plt.ylim(0,1)\n",
    "plt.legend(loc='lower right')\n",
    "plt.show()\n"
   ]
  },
  {
   "cell_type": "code",
   "execution_count": null,
   "metadata": {},
   "outputs": [],
   "source": [
    "from sklearn.model_selection import cross_val_score\n",
    "\n",
    "# Function to perform cross-validation and print scores\n",
    "def cross_validate_model(model, X, y, model_name):\n",
    "    scores = cross_val_score(model, X, y, cv=5, scoring='accuracy')\n",
    "    print(f\"\\nCross-Validation Accuracy Scores for {model_name}: {scores}\")\n",
    "    print(f\"Mean Accuracy: {scores.mean():.2f} (+/- {scores.std():.2f})\")\n",
    "\n",
    "# Cross-validate SVM\n",
    "cross_validate_model(svm_model, X_scaled, y, 'Support Vector Machine')\n",
    "\n",
    "# Cross-validate ANN\n",
    "cross_validate_model(mlp_model, X_scaled, y, 'Artificial Neural Network')\n",
    "\n",
    "# Cross-validate Random Forest\n",
    "cross_validate_model(rf_model, X_scaled, y, 'Random Forest')\n"
   ]
  },
  {
   "cell_type": "code",
   "execution_count": null,
   "metadata": {},
   "outputs": [],
   "source": [
    "\n",
    "# Function to print classification report\n",
    "def print_classification_report(model, X_test, y_test, model_name):\n",
    "    y_pred = model.predict(X_test)\n",
    "    report = classification_report(y_test, y_pred, target_names=['Not Good', 'Good'])\n",
    "    print(f\"\\nClassification Report for {model_name}:\\n{report}\")\n",
    "\n",
    "# Print reports for each model\n",
    "print_classification_report(svm_model, X_test, y_test, 'Support Vector Machine')\n",
    "print_classification_report(mlp_model, X_test, y_test, 'Artificial Neural Network')\n",
    "print_classification_report(rf_model, X_test, y_test, 'Random Forest')\n"
   ]
  }
 ],
 "metadata": {
  "kernelspec": {
   "display_name": "cse217a",
   "language": "python",
   "name": "python3"
  },
  "language_info": {
   "codemirror_mode": {
    "name": "ipython",
    "version": 3
   },
   "file_extension": ".py",
   "mimetype": "text/x-python",
   "name": "python",
   "nbconvert_exporter": "python",
   "pygments_lexer": "ipython3",
   "version": "3.10.13"
  }
 },
 "nbformat": 4,
 "nbformat_minor": 2
}
